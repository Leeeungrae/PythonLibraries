{
 "cells": [
  {
   "cell_type": "code",
   "execution_count": 1,
   "metadata": {},
   "outputs": [
    {
     "name": "stdout",
     "output_type": "stream",
     "text": [
      "Welcome!\n",
      "Guess the number:30\n",
      "Too high\n",
      "Guess the number:20\n",
      "Too high\n",
      "Guess the number:10\n",
      "Too high\n",
      "Guess the number:2\n",
      "Two low\n",
      "Guess the number:1\n",
      "Two low\n",
      "Guess the number:5\n",
      "You win!\n",
      "Game Over\n"
     ]
    }
   ],
   "source": [
    "print(\"Welcome!\")\n",
    "\n",
    "guess = 0\n",
    "while guess !=5:\n",
    "    g = input(\"Guess the number:\")\n",
    "    guess = int(g)\n",
    "    if guess == 5:\n",
    "        print(\"You win!\")\n",
    "    else:\n",
    "        if guess >5:\n",
    "            print(\"Too high\")\n",
    "        else:\n",
    "            print(\"Two low\")\n",
    "\n",
    "print(\"Game Over\")"
   ]
  },
  {
   "cell_type": "code",
   "execution_count": 4,
   "metadata": {},
   "outputs": [
    {
     "data": {
      "text/plain": [
       "6"
      ]
     },
     "execution_count": 4,
     "metadata": {},
     "output_type": "execute_result"
    }
   ],
   "source": [
    "from random import randint\n",
    "answer = randint(1, 10)  # 1 ~ 10까지 난수 생성\n",
    "\n",
    "answer"
   ]
  },
  {
   "cell_type": "code",
   "execution_count": 8,
   "metadata": {},
   "outputs": [
    {
     "name": "stdout",
     "output_type": "stream",
     "text": [
      "Guess the number: 3\n",
      "Too low\n",
      "Guess the number: 4\n",
      "Too low\n",
      "Guess the number: 5\n",
      "Too low\n",
      "Guess the number: 6\n",
      "You win\n",
      "Game over!\n"
     ]
    }
   ],
   "source": [
    "guess = 0\n",
    "while guess != answer:\n",
    "    g = input(\"Guess the number: \")\n",
    "    guess =int(g)\n",
    "    if guess == answer:\n",
    "        print(\"You win\")\n",
    "    else:\n",
    "        if guess > answer:\n",
    "            print(\"Too high\")\n",
    "        else:\n",
    "            print(\"Too low\")\n",
    "\n",
    "print(\"Game over!\")"
   ]
  },
  {
   "cell_type": "markdown",
   "metadata": {},
   "source": [
    "## Summary\n",
    "- if/else분기문\n",
    "- while 루프\n",
    "- == 동치 비교 연산자, !=비동치 비교 연산자, >,< 크기 비교연산자\n",
    "- print()함수 : 화면에 메시지를 출력\n",
    "- input()함수 : 사용자의 입력을 받음\n",
    "- int()함수 : 문자를 숫자로 변환\n",
    "- randint()함수 : 난수를 생성"
   ]
  },
  {
   "cell_type": "code",
   "execution_count": null,
   "metadata": {},
   "outputs": [],
   "source": []
  }
 ],
 "metadata": {
  "kernelspec": {
   "display_name": "Python 3",
   "language": "python",
   "name": "python3"
  },
  "language_info": {
   "codemirror_mode": {
    "name": "ipython",
    "version": 3
   },
   "file_extension": ".py",
   "mimetype": "text/x-python",
   "name": "python",
   "nbconvert_exporter": "python",
   "pygments_lexer": "ipython3",
   "version": "3.7.3"
  }
 },
 "nbformat": 4,
 "nbformat_minor": 2
}
