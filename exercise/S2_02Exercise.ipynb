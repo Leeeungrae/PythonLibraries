{
 "cells": [
  {
   "cell_type": "markdown",
   "metadata": {},
   "source": [
    "# 1번 - 파일 객체"
   ]
  },
  {
   "cell_type": "code",
   "execution_count": 77,
   "metadata": {},
   "outputs": [
    {
     "name": "stdout",
     "output_type": "stream",
     "text": [
      "/Users/jooyoungson/Documents/GitHub/DevPy/PythonLibraries/exercise\r\n"
     ]
    }
   ],
   "source": [
    "!pwd"
   ]
  },
  {
   "cell_type": "code",
   "execution_count": 78,
   "metadata": {},
   "outputs": [
    {
     "name": "stdout",
     "output_type": "stream",
     "text": [
      "S2_01Exercise.ipynb     S2_03Exercise.ipynb     sales_march_2014.csv\r\n",
      "S2_01Exercise1.py       sales_february_2014.csv\r\n",
      "S2_02Exercise.ipynb     sales_january_2014.csv\r\n"
     ]
    }
   ],
   "source": [
    "!ls"
   ]
  },
  {
   "cell_type": "code",
   "execution_count": 79,
   "metadata": {},
   "outputs": [],
   "source": [
    "f = open(\"resultfile.txt\", 'w')\n",
    "for i in range(1, 11):\n",
    "    data = \"%d번째 줄입니다.\\n\" %i\n",
    "    f.write(data)\n",
    "f.close()"
   ]
  },
  {
   "cell_type": "code",
   "execution_count": 80,
   "metadata": {},
   "outputs": [
    {
     "name": "stdout",
     "output_type": "stream",
     "text": [
      "S2_01Exercise.ipynb     S2_03Exercise.ipynb     sales_january_2014.csv\r\n",
      "S2_01Exercise1.py       resultfile.txt          sales_march_2014.csv\r\n",
      "S2_02Exercise.ipynb     sales_february_2014.csv\r\n"
     ]
    }
   ],
   "source": [
    "!ls"
   ]
  },
  {
   "cell_type": "code",
   "execution_count": 81,
   "metadata": {},
   "outputs": [],
   "source": [
    "with open('hi.txt','w') as fout:\n",
    "     fout.write('goodmorning')"
   ]
  },
  {
   "cell_type": "code",
   "execution_count": 82,
   "metadata": {},
   "outputs": [
    {
     "name": "stdout",
     "output_type": "stream",
     "text": [
      "S2_01Exercise.ipynb     S2_03Exercise.ipynb     sales_february_2014.csv\r\n",
      "S2_01Exercise1.py       hi.txt                  sales_january_2014.csv\r\n",
      "S2_02Exercise.ipynb     resultfile.txt          sales_march_2014.csv\r\n"
     ]
    }
   ],
   "source": [
    "!ls"
   ]
  },
  {
   "cell_type": "markdown",
   "metadata": {},
   "source": [
    "## Summary\n",
    "- 파일 : ROM에 저장되어 있는 데이터 \n",
    "    - open() : 파일 객체를 생성한다.\n",
    "        - w: 쓰기모드, r: 읽기모드\n",
    "    - write() : 파일에 변수 값을 쓴다. \n",
    "    - close() : 파일 객체를 닫는다. \n",
    "    - with open() as 파일객체명 : 명령어 수행후 저절로 파일객체가 닫힌다. \n",
    "    \n",
    "- !pwd \n",
    "    - !는 쥬피터 노트북에서 터미널에 접속하기 위한 명령어\n",
    "    - pwd : 현재 디렉토리\n",
    "    - ls : 현재 디렉토리에 있는 파일 리스트"
   ]
  },
  {
   "cell_type": "markdown",
   "metadata": {},
   "source": [
    "# 2번 - CSV파일 다루기 \n",
    "\n",
    "- sales janualry,march, february 파일을 한 파일로 합친 뒤 총액을 구한다. "
   ]
  },
  {
   "cell_type": "code",
   "execution_count": 83,
   "metadata": {},
   "outputs": [],
   "source": [
    "# 파일 불러오기\n",
    "import glob, os\n",
    "import csv\n",
    "\n",
    "analy_name = \"sales\"\n",
    "path_dict = {analy_name:r\"//Users/jooyoungson/Documents/GitHub/DevPy/PythonLibraries/exercise\"}"
   ]
  },
  {
   "cell_type": "code",
   "execution_count": 84,
   "metadata": {},
   "outputs": [
    {
     "data": {
      "text/plain": [
       "{'sales': '//Users/jooyoungson/Documents/GitHub/DevPy/PythonLibraries/exercise'}"
      ]
     },
     "execution_count": 84,
     "metadata": {},
     "output_type": "execute_result"
    }
   ],
   "source": [
    "path_dict"
   ]
  },
  {
   "cell_type": "code",
   "execution_count": 85,
   "metadata": {},
   "outputs": [
    {
     "data": {
      "text/plain": [
       "'//Users/jooyoungson/Documents/GitHub/DevPy/PythonLibraries/exercise'"
      ]
     },
     "execution_count": 85,
     "metadata": {},
     "output_type": "execute_result"
    }
   ],
   "source": [
    "pathes = path_dict[analy_name]\n",
    "pathes"
   ]
  },
  {
   "cell_type": "code",
   "execution_count": 86,
   "metadata": {},
   "outputs": [
    {
     "name": "stdout",
     "output_type": "stream",
     "text": [
      "['//Users/jooyoungson/Documents/GitHub/DevPy/PythonLibraries/exercise/sales_january_2014.csv', '//Users/jooyoungson/Documents/GitHub/DevPy/PythonLibraries/exercise/sales_march_2014.csv', '//Users/jooyoungson/Documents/GitHub/DevPy/PythonLibraries/exercise/sales_february_2014.csv']\n"
     ]
    }
   ],
   "source": [
    "files = glob.glob('{}/*.csv'.format(pathes))\n",
    "print(files)"
   ]
  },
  {
   "cell_type": "code",
   "execution_count": 87,
   "metadata": {},
   "outputs": [
    {
     "data": {
      "text/plain": [
       "list"
      ]
     },
     "execution_count": 87,
     "metadata": {},
     "output_type": "execute_result"
    }
   ],
   "source": [
    "type(files)"
   ]
  },
  {
   "cell_type": "code",
   "execution_count": 88,
   "metadata": {},
   "outputs": [
    {
     "data": {
      "text/plain": [
       "3"
      ]
     },
     "execution_count": 88,
     "metadata": {},
     "output_type": "execute_result"
    }
   ],
   "source": [
    "len(files)"
   ]
  },
  {
   "cell_type": "code",
   "execution_count": 89,
   "metadata": {},
   "outputs": [
    {
     "data": {
      "text/plain": [
       "'//Users/jooyoungson/Documents/GitHub/DevPy/PythonLibraries/exercise/sales_january_2014.csv'"
      ]
     },
     "execution_count": 89,
     "metadata": {},
     "output_type": "execute_result"
    }
   ],
   "source": [
    "files[0]"
   ]
  },
  {
   "cell_type": "code",
   "execution_count": 90,
   "metadata": {},
   "outputs": [
    {
     "name": "stdout",
     "output_type": "stream",
     "text": [
      "Done.\n"
     ]
    }
   ],
   "source": [
    "# csv header: Customer ID, Customer Name, Invoice Number, Sale Amount, Purchase Date\n",
    "\n",
    "output_header_list = ['File Name', 'Sales Amount','Average Sales']\n",
    "csv_result_file = open('total.csv', 'w', newline='')\n",
    "filewriter = csv.writer(csv_result_file)\n",
    "filewriter.writerow(output_header_list)\n",
    "\n",
    "for input_file in files:\n",
    "    with open(input_file, 'r', newline='') as csv_in_file:\n",
    "        filereader = csv.reader(csv_in_file)\n",
    "        output_list = []\n",
    "        output_list.append(os.path.basename(input_file))\n",
    "        header = next(filereader)\n",
    "        total_sales = 0.0 #초기값 설정\n",
    "        sales_cnt = 0.0 #초기값 설정\n",
    "        for row in filereader:\n",
    "            sale_amount = row[3]\n",
    "            total_sales += float(str(sale_amount).strip('$').replace(',', ''))\n",
    "            sales_cnt += 1.0\n",
    "        average_sales = '{0:.2f}'.format(total_sales / sales_cnt)\n",
    "        output_list.append(total_sales)\n",
    "        output_list.append(average_sales)\n",
    "        filewriter.writerow(output_list)\n",
    "\n",
    "csv_result_file.close()\n",
    "print(\"Done.\")"
   ]
  },
  {
   "cell_type": "code",
   "execution_count": 91,
   "metadata": {},
   "outputs": [
    {
     "name": "stdout",
     "output_type": "stream",
     "text": [
      "S2_01Exercise.ipynb     hi.txt                  sales_march_2014.csv\r\n",
      "S2_01Exercise1.py       resultfile.txt          total.csv\r\n",
      "S2_02Exercise.ipynb     sales_february_2014.csv\r\n",
      "S2_03Exercise.ipynb     sales_january_2014.csv\r\n"
     ]
    }
   ],
   "source": [
    "!ls"
   ]
  },
  {
   "cell_type": "code",
   "execution_count": null,
   "metadata": {},
   "outputs": [],
   "source": []
  }
 ],
 "metadata": {
  "kernelspec": {
   "display_name": "Python 3",
   "language": "python",
   "name": "python3"
  },
  "language_info": {
   "codemirror_mode": {
    "name": "ipython",
    "version": 3
   },
   "file_extension": ".py",
   "mimetype": "text/x-python",
   "name": "python",
   "nbconvert_exporter": "python",
   "pygments_lexer": "ipython3",
   "version": "3.7.3"
  }
 },
 "nbformat": 4,
 "nbformat_minor": 2
}
